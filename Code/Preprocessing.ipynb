{
  "nbformat": 4,
  "nbformat_minor": 0,
  "metadata": {
    "colab": {
      "name": "Preprocessing.ipynb",
      "provenance": [],
      "collapsed_sections": []
    },
    "kernelspec": {
      "name": "python3",
      "display_name": "Python 3"
    },
    "language_info": {
      "name": "python"
    }
  },
  "cells": [
    {
      "cell_type": "code",
      "metadata": {
        "colab": {
          "base_uri": "https://localhost:8080/"
        },
        "id": "rn9Sc9ybC5KX",
        "outputId": "f72ac791-cb0f-4336-b51a-30883ef1f6a8"
      },
      "source": [
        "from google.colab import drive\n",
        "drive.mount('/content/drive')"
      ],
      "execution_count": 1,
      "outputs": [
        {
          "output_type": "stream",
          "text": [
            "Mounted at /content/drive\n"
          ],
          "name": "stdout"
        }
      ]
    },
    {
      "cell_type": "code",
      "metadata": {
        "id": "ZTJa_37LDPxT"
      },
      "source": [
        "import cv2\n",
        "import numpy as np\n",
        "import json\n",
        "import matplotlib.pyplot as plt\n",
        "import numpy as np\n",
        "import h5py\n",
        "import os\n",
        "import glob\n",
        "import scipy.io\n",
        "import torch\n",
        "from sklearn.metrics import confusion_matrix\n",
        "import torch.nn as nn\n",
        "import torch.nn.functional as F\n",
        "import torch.optim as optim\n",
        "import torchvision\n",
        "import matplotlib.pyplot as plt\n",
        "import torchvision.transforms as transforms\n",
        "import pickle\n",
        "from scipy.spatial import ConvexHull, convex_hull_plot_2d"
      ],
      "execution_count": 10,
      "outputs": []
    },
    {
      "cell_type": "code",
      "metadata": {
        "id": "-XmlvIOODUZ2"
      },
      "source": [
        "!unzip /content/drive/MyDrive/CAPSTONE/gtFine_trainvaltest.zip"
      ],
      "execution_count": null,
      "outputs": []
    },
    {
      "cell_type": "code",
      "metadata": {
        "id": "E_S9dSoLDUcu"
      },
      "source": [
        "!unzip /content/drive/MyDrive/CAPSTONE/leftImg8bit_trainvaltest.zip"
      ],
      "execution_count": null,
      "outputs": []
    },
    {
      "cell_type": "code",
      "metadata": {
        "colab": {
          "base_uri": "https://localhost:8080/",
          "height": 236
        },
        "id": "3Lccz8U4DUfv",
        "outputId": "e45b233b-a9ec-4339-ec7d-af17d77e4d3d"
      },
      "source": [
        "img=cv2.imread('/content/gtFine/train/monchengladbach/monchengladbach_000001_001936_gtFine_color.png',)\n",
        "plt.imshow(img)"
      ],
      "execution_count": 5,
      "outputs": [
        {
          "output_type": "execute_result",
          "data": {
            "text/plain": [
              "<matplotlib.image.AxesImage at 0x7f5343dc3ed0>"
            ]
          },
          "metadata": {
            "tags": []
          },
          "execution_count": 5
        },
        {
          "output_type": "display_data",
          "data": {
            "image/png": "[encoded data removed]",
            "text/plain": [
              "<Figure size 432x288 with 1 Axes>"
            ]
          },
          "metadata": {
            "tags": [],
            "needs_background": "light"
          }
        }
      ]
    },
    {
      "cell_type": "code",
      "metadata": {
        "colab": {
          "base_uri": "https://localhost:8080/"
        },
        "id": "CvW-VpxeDUii",
        "outputId": "6aa896ec-a9c5-42b1-b197-f42deb6c0531"
      },
      "source": [
        "#Printing all the objects in image\n",
        "# Opening JSON file \n",
        "f = open('/content/gtFine/train/aachen/aachen_000000_000019_gtFine_polygons.json',) \n",
        "data = json.load(f)\n",
        "for i in range(len(data['objects'])):\n",
        "  print(data['objects'][i]['label'])"
      ],
      "execution_count": 7,
      "outputs": [
        {
          "output_type": "stream",
          "text": [
            "road\n",
            "sidewalk\n",
            "car\n",
            "car\n",
            "car\n",
            "sky\n",
            "terrain\n",
            "building\n",
            "building\n",
            "car\n",
            "terrain\n",
            "terrain\n",
            "sidewalk\n",
            "car\n",
            "vegetation\n",
            "car\n",
            "pole\n",
            "pole\n",
            "pole\n",
            "pole\n",
            "car\n",
            "traffic sign\n",
            "car\n",
            "pole\n",
            "static\n",
            "pole\n",
            "car\n",
            "pole\n",
            "vegetation\n",
            "pole\n",
            "pole\n",
            "vegetation\n",
            "pole\n",
            "pole\n",
            "traffic sign\n",
            "pole\n",
            "car\n",
            "static\n",
            "static\n",
            "pole\n",
            "traffic sign\n",
            "traffic sign\n",
            "traffic sign\n",
            "static\n",
            "vegetation\n",
            "static\n",
            "vegetation\n",
            "bicycle\n",
            "person\n",
            "traffic sign\n",
            "pole\n",
            "pole\n",
            "person\n",
            "car\n",
            "traffic sign\n",
            "pole\n",
            "pole\n",
            "license plate\n",
            "terrain\n",
            "rider\n",
            "license plate\n",
            "pole\n",
            "traffic sign\n",
            "traffic sign\n",
            "traffic sign\n",
            "bicycle\n",
            "pole\n",
            "traffic sign\n",
            "static\n",
            "pole\n",
            "license plate\n",
            "static\n",
            "static\n",
            "static\n",
            "static\n",
            "static\n",
            "static\n",
            "static\n",
            "ego vehicle\n",
            "out of roi\n"
          ],
          "name": "stdout"
        }
      ]
    },
    {
      "cell_type": "code",
      "metadata": {
        "colab": {
          "base_uri": "https://localhost:8080/",
          "height": 1000
        },
        "id": "Pu6pZs85DUlH",
        "outputId": "e7035168-4f63-41fd-a94b-dd7794bcaba4"
      },
      "source": [
        "#Visualizing the object car of an image\n",
        "img = np.zeros((1024, 2048,3), np.uint8)\n",
        "for i in range(len(data['objects'])):\n",
        "  print(data['objects'][i]['label'])\n",
        "  if data['objects'][i]['label']=='car':\n",
        "    x=data['objects'][i]['polygon']\n",
        "    cv2.fillPoly(img, np.array([data['objects'][i]['polygon']]), (0, 0, 255))\n",
        "\n",
        "plt.imshow(img)"
      ],
      "execution_count": 8,
      "outputs": [
        {
          "output_type": "stream",
          "text": [
            "road\n",
            "sidewalk\n",
            "car\n",
            "car\n",
            "car\n",
            "sky\n",
            "terrain\n",
            "building\n",
            "building\n",
            "car\n",
            "terrain\n",
            "terrain\n",
            "sidewalk\n",
            "car\n",
            "vegetation\n",
            "car\n",
            "pole\n",
            "pole\n",
            "pole\n",
            "pole\n",
            "car\n",
            "traffic sign\n",
            "car\n",
            "pole\n",
            "static\n",
            "pole\n",
            "car\n",
            "pole\n",
            "vegetation\n",
            "pole\n",
            "pole\n",
            "vegetation\n",
            "pole\n",
            "pole\n",
            "traffic sign\n",
            "pole\n",
            "car\n",
            "static\n",
            "static\n",
            "pole\n",
            "traffic sign\n",
            "traffic sign\n",
            "traffic sign\n",
            "static\n",
            "vegetation\n",
            "static\n",
            "vegetation\n",
            "bicycle\n",
            "person\n",
            "traffic sign\n",
            "pole\n",
            "pole\n",
            "person\n",
            "car\n",
            "traffic sign\n",
            "pole\n",
            "pole\n",
            "license plate\n",
            "terrain\n",
            "rider\n",
            "license plate\n",
            "pole\n",
            "traffic sign\n",
            "traffic sign\n",
            "traffic sign\n",
            "bicycle\n",
            "pole\n",
            "traffic sign\n",
            "static\n",
            "pole\n",
            "license plate\n",
            "static\n",
            "static\n",
            "static\n",
            "static\n",
            "static\n",
            "static\n",
            "static\n",
            "ego vehicle\n",
            "out of roi\n"
          ],
          "name": "stdout"
        },
        {
          "output_type": "execute_result",
          "data": {
            "text/plain": [
              "<matplotlib.image.AxesImage at 0x7f53437cb110>"
            ]
          },
          "metadata": {
            "tags": []
          },
          "execution_count": 8
        },
        {
          "output_type": "display_data",
          "data": {
            "image/png": "[encoded data removed]",
            "text/plain": [
              "<Figure size 432x288 with 1 Axes>"
            ]
          },
          "metadata": {
            "tags": [],
            "needs_background": "light"
          }
        }
      ]
    },
    {
      "cell_type": "code",
      "metadata": {
        "colab": {
          "base_uri": "https://localhost:8080/",
          "height": 236
        },
        "id": "qdVmqFXbFgb6",
        "outputId": "29b2f557-d434-446c-ebb9-fa6672442e17"
      },
      "source": [
        "#Creatig convex hull on car\n",
        "y=cv2.cvtColor(img, cv2.COLOR_BGR2GRAY)\n",
        "blur = cv2.blur(y, (3, 3)) # blur the image\n",
        "ret,thresh = cv2.threshold(blur,130,255,cv2.THRESH_TOZERO_INV)\n",
        "imgplot = plt.imshow(thresh)\n",
        "\n",
        "contour, hierarchy = cv2.findContours(thresh, cv2.RETR_TREE, cv2.CHAIN_APPROX_SIMPLE)\n",
        "hull = []\n",
        "contours=[]\n",
        "for i in contour:\n",
        "    if cv2.contourArea(i)>800:\n",
        "        contours.append(cv2.convexHull(i))\n",
        "\n",
        "for i in range(len(contours)):\n",
        "    # creating convex hull object for each contour\n",
        "    hull.append(cv2.convexHull(contours[i], False))\n",
        "\n",
        "for i in range(len(hull)):\n",
        "    # color_contours = (0, 255, 0) # green - color for contours\n",
        "    color = (255, 255, 255) # blue - color for convex hull\n",
        "    img2=cv2.drawContours(y, hull, i, color, 1, 8)\n",
        "\n",
        "img1 = np.zeros((1024, 2047, 3), np.uint8)\n",
        "for i in range (len(hull)):\n",
        "  cv2.fillPoly(img1, np.array([hull[i]]), (0, 0, 255))\n",
        "\n",
        "plt.imshow(img1)\n",
        "  "
      ],
      "execution_count": 11,
      "outputs": [
        {
          "output_type": "execute_result",
          "data": {
            "text/plain": [
              "<matplotlib.image.AxesImage at 0x7f534371a890>"
            ]
          },
          "metadata": {
            "tags": []
          },
          "execution_count": 11
        },
        {
          "output_type": "display_data",
          "data": {
            "image/png": "[encoded data removed]",
            "text/plain": [
              "<Figure size 432x288 with 1 Axes>"
            ]
          },
          "metadata": {
            "tags": [],
            "needs_background": "light"
          }
        }
      ]
    },
    {
      "cell_type": "code",
      "metadata": {
        "id": "0eJ1rOkHFyXr"
      },
      "source": [
        "#1.Car 2.bicycle or rider 3. bus 4.person 5.motorcycle\n",
        "import json \n",
        "import cv2\n",
        "import numpy as np\n",
        "def create_data(path):\n",
        "  f = open(path) \n",
        "  data = json.load(f)\n",
        "  img = np.zeros((1024, 2048,3), np.uint8)\n",
        "  output = np.zeros((128,256,5),dtype=int)\n",
        "  input_img = np.zeros((1024, 2048,3),np.uint8)\n",
        "  for i in range(len(data['objects'])):\n",
        "    if data['objects'][i]['label']=='car':\n",
        "      cv2.fillPoly(img, np.array([data['objects'][i]['polygon']]), (0, 0, 255))\n",
        "      cv2.fillPoly(input_img, np.array([data['objects'][i]['polygon']]), (0, 0, 255))\n",
        "\n",
        "  y=cv2.cvtColor(img, cv2.COLOR_BGR2GRAY)\n",
        "  blur = cv2.blur(y, (3, 3)) # blur the image\n",
        "  ret,thresh = cv2.threshold(blur,130,255,cv2.THRESH_TOZERO_INV)\n",
        "  \n",
        "  contour, hierarchy = cv2.findContours(thresh, cv2.RETR_TREE, cv2.CHAIN_APPROX_SIMPLE)\n",
        "  hull = []\n",
        "  contours=[]\n",
        "  for i in contour:\n",
        "      if cv2.contourArea(i)>800:\n",
        "          contours.append(cv2.convexHull(i))\n",
        "\n",
        "  for i in range(len(contours)):\n",
        "      hull.append(cv2.convexHull(contours[i], False))\n",
        "\n",
        "  for i in range(len(hull)):\n",
        "      color = (255, 255, 255) # blue - color for convex hull\n",
        "      img2=cv2.drawContours(y, hull, i, color, 1, 8)\n",
        "\n",
        "  img1 = np.zeros((1024, 2048, 3), np.uint8)\n",
        "  for i in range (len(hull)):\n",
        "    cv2.fillPoly(img1, np.array([hull[i]]), (0, 0, 255))\n",
        "  y=cv2.cvtColor(img1, cv2.COLOR_BGR2GRAY)\n",
        "  y=cv2.resize(y, (256,128), interpolation = cv2.INTER_AREA)\n",
        "  for i in range (128):\n",
        "    for j in range(256):\n",
        "      if y[i][j]!=0:\n",
        "        y[i][j]=1\n",
        "  output[:,:,0] = y\n",
        "\n",
        "\n",
        "  img = np.zeros((1024, 2048,3), np.uint8)\n",
        "  for i in range(len(data['objects'])):\n",
        "    if data['objects'][i]['label']=='bicycle' or data['objects'][i]['label']=='rider' :\n",
        "      cv2.fillPoly(img, np.array([data['objects'][i]['polygon']]), (0, 0, 255))\n",
        "      cv2.fillPoly(input_img, np.array([data['objects'][i]['polygon']]), (0, 0, 255))\n",
        "  y=cv2.cvtColor(img, cv2.COLOR_BGR2GRAY)\n",
        "  blur = cv2.blur(y, (3, 3)) # blur the image\n",
        "  ret,thresh = cv2.threshold(blur,130,255,cv2.THRESH_TOZERO_INV)\n",
        "\n",
        "  # print(thresh.shape)\n",
        "  contour, hierarchy = cv2.findContours(thresh, cv2.RETR_TREE, cv2.CHAIN_APPROX_SIMPLE)\n",
        "  hull = []\n",
        "  contours=[]\n",
        "  for i in contour:\n",
        "      if cv2.contourArea(i)>800:\n",
        "          contours.append(cv2.convexHull(i))\n",
        "\n",
        "  for i in range(len(contours)):\n",
        "      # creating convex hull object for each contour\n",
        "      hull.append(cv2.convexHull(contours[i], False))\n",
        "  for i in range(len(hull)):\n",
        "      # color_contours = (0, 255, 0) # green - color for contours\n",
        "      color = (255, 255, 255) # blue - color for convex hull\n",
        "    \n",
        "      img2=cv2.drawContours(y, hull, i, color, 1, 8)\n",
        "  img1 = np.zeros((1024, 2048, 3), np.uint8)\n",
        "  for i in range (len(hull)):\n",
        "    cv2.fillPoly(img1, np.array([hull[i]]), (0, 0, 255))\n",
        "  y=cv2.cvtColor(img1, cv2.COLOR_BGR2GRAY)\n",
        "  y=cv2.resize(y, (256,128), interpolation = cv2.INTER_AREA)\n",
        "  for i in range (128):\n",
        "    for j in range(256):\n",
        "      if y[i][j]!=0:\n",
        "        y[i][j]=1\n",
        "  \n",
        "  output[:,:,1] = y\n",
        "\n",
        "\n",
        "  img = np.zeros((1024, 2048,3), np.uint8)\n",
        "  for i in range(len(data['objects'])):\n",
        "    if data['objects'][i]['label']=='bus' :\n",
        "      cv2.fillPoly(img, np.array([data['objects'][i]['polygon']]), (0, 0, 255))\n",
        "      cv2.fillPoly(input_img, np.array([data['objects'][i]['polygon']]), (0, 0, 255))\n",
        "  y=cv2.cvtColor(img, cv2.COLOR_BGR2GRAY)\n",
        "  blur = cv2.blur(y, (3, 3)) # blur the image\n",
        "  ret,thresh = cv2.threshold(blur,130,255,cv2.THRESH_TOZERO_INV)\n",
        "\n",
        "  contour, hierarchy = cv2.findContours(thresh, cv2.RETR_TREE, cv2.CHAIN_APPROX_SIMPLE)\n",
        "  hull = []\n",
        "  contours=[]\n",
        "  for i in contour:\n",
        "      if cv2.contourArea(i)>800:\n",
        "          contours.append(cv2.convexHull(i))\n",
        "\n",
        "  # print(len(contours))\n",
        "  for i in range(len(contours)):\n",
        "      # creating convex hull object for each contour\n",
        "      hull.append(cv2.convexHull(contours[i], False))\n",
        "  for i in range(len(hull)):\n",
        "      # color_contours = (0, 255, 0) # green - color for contours\n",
        "      color = (255, 255, 255) # blue - color for convex hull\n",
        "    \n",
        "      img2=cv2.drawContours(y, hull, i, color, 1, 8)\n",
        "  img1 = np.zeros((1024, 2048, 3), np.uint8)\n",
        "  for i in range (len(hull)):\n",
        "    cv2.fillPoly(img1, np.array([hull[i]]), (0, 0, 255))\n",
        "  y=cv2.cvtColor(img1, cv2.COLOR_BGR2GRAY)\n",
        "  # y=img1\n",
        "  y=cv2.resize(y, (256,128), interpolation = cv2.INTER_AREA)\n",
        "  for i in range (128):\n",
        "    for j in range(256):\n",
        "      if y[i][j]!=0:\n",
        "        y[i][j]=1\n",
        "  output[:,:,2] = y\n",
        "\n",
        "\n",
        "  img = np.zeros((1024, 2048,3), np.uint8)\n",
        "  for i in range(len(data['objects'])):\n",
        "    if data['objects'][i]['label']=='person' :\n",
        "      cv2.fillPoly(img, np.array([data['objects'][i]['polygon']]), (0, 0, 255))\n",
        "      cv2.fillPoly(input_img, np.array([data['objects'][i]['polygon']]), (0, 0, 255))\n",
        "  y=cv2.cvtColor(img, cv2.COLOR_BGR2GRAY)\n",
        "  blur = cv2.blur(y, (3, 3)) # blur the image\n",
        "  ret,thresh = cv2.threshold(blur,130,255,cv2.THRESH_TOZERO_INV)\n",
        "  contour, hierarchy = cv2.findContours(thresh, cv2.RETR_TREE, cv2.CHAIN_APPROX_SIMPLE)\n",
        "  hull = []\n",
        "  contours=[]\n",
        "  for i in contour:\n",
        "      if cv2.contourArea(i)>800:\n",
        "          contours.append(cv2.convexHull(i))\n",
        "\n",
        "  for i in range(len(contours)):\n",
        "      # creating convex hull object for each contour\n",
        "      hull.append(cv2.convexHull(contours[i], False))\n",
        "  for i in range(len(hull)):\n",
        "      color = (255, 255, 255) # blue - color for convex hull\n",
        "    \n",
        "      img2=cv2.drawContours(y, hull, i, color, 1, 8)\n",
        "  img1 = np.zeros((1024, 2048, 3), np.uint8)\n",
        "  for i in range (len(hull)):\n",
        "    cv2.fillPoly(img1, np.array([hull[i]]), (0, 0, 255))\n",
        "  y=cv2.cvtColor(img1, cv2.COLOR_BGR2GRAY)\n",
        "  # y=img1\n",
        "  y=cv2.resize(y, (256,128), interpolation = cv2.INTER_AREA)\n",
        "  for i in range (128):\n",
        "    for j in range(256):\n",
        "      if y[i][j]!=0:\n",
        "        y[i][j]=1\n",
        "  output[:,:,3] = y\n",
        "\n",
        "\n",
        "  img = np.zeros((1024, 2048,3), np.uint8)\n",
        "  for i in range(len(data['objects'])):\n",
        "    if data['objects'][i]['label']=='motorcycle':\n",
        "      cv2.fillPoly(img, np.array([data['objects'][i]['polygon']]), (0, 0, 255))\n",
        "      cv2.fillPoly(input_img, np.array([data['objects'][i]['polygon']]), (0, 0, 255))\n",
        "  y=cv2.cvtColor(img, cv2.COLOR_BGR2GRAY)\n",
        "  blur = cv2.blur(y, (3, 3)) # blur the image\n",
        "  ret,thresh = cv2.threshold(blur,130,255,cv2.THRESH_TOZERO_INV)\n",
        "\n",
        "  contour, hierarchy = cv2.findContours(thresh, cv2.RETR_TREE, cv2.CHAIN_APPROX_SIMPLE)\n",
        "  hull = []\n",
        "  contours=[]\n",
        "\n",
        "  for i in contour:\n",
        "      if cv2.contourArea(i)>800:\n",
        "          contours.append(cv2.convexHull(i))\n",
        "  for i in range(len(contours)):\n",
        "      # creating convex hull object for each contour\n",
        "      hull.append(cv2.convexHull(contours[i], False))\n",
        "\n",
        "  for i in range(len(hull)):\n",
        "      # color_contours = (0, 255, 0) # green - color for contours\n",
        "      color = (255, 255, 255) # blue - color for convex hull\n",
        "    \n",
        "      img2=cv2.drawContours(y, hull, i, color, 1, 8)\n",
        "  img1 = np.zeros((1024, 2048, 3), np.uint8)\n",
        "  for i in range (len(hull)):\n",
        "    cv2.fillPoly(img1, np.array([hull[i]]), (0, 0, 255))\n",
        "  y=cv2.cvtColor(img1, cv2.COLOR_BGR2GRAY)\n",
        "  # y=img1\n",
        "  y=cv2.resize(y, (256,128), interpolation = cv2.INTER_AREA)\n",
        "  for i in range (128):\n",
        "    for j in range(256):\n",
        "      if y[i][j]!=0:\n",
        "        y[i][j]=1\n",
        "  output[:,:,4] = y\n",
        "  input_img=cv2.resize(input_img, (256,128), interpolation = cv2.INTER_AREA)\n",
        "  return input_img,output\n",
        "\n",
        "input_img,gt=create_data('/content/gtFine/train/monchengladbach/monchengladbach_000001_001936_gtFine_polygons.json')"
      ],
      "execution_count": null,
      "outputs": []
    },
    {
      "cell_type": "code",
      "metadata": {
        "id": "ghtGUDHQGZPZ"
      },
      "source": [
        "c=0\n",
        "final_inp=[]\n",
        "final_gt=[]\n",
        "for i in (os.listdir('/content/gtFine/train/')):\n",
        "  for j in (os.listdir('/content/gtFine/train/'+i)):\n",
        "    path='/content/gtFine/train/'+i+'/'+j\n",
        "    if j.split('.')[0][-1]=='r':\n",
        "      img=cv2.imread(path,)\n",
        "      img=cv2.resize(img, (256,128), interpolation = cv2.INTER_AREA)\n",
        "      final_inp.append(img)\n",
        "    if j.split('.')[1]=='json':\n",
        "      input_img,gt=create_data(path)\n",
        "      final_gt.append(gt)\n",
        "    c=c+1\n",
        "\n",
        "      "
      ],
      "execution_count": null,
      "outputs": []
    },
    {
      "cell_type": "code",
      "metadata": {
        "id": "WcAg-j2EGZL0"
      },
      "source": [
        "file = open('/content/drive/MyDrive/CAPSTONE/Aerocity/final_inp_1', 'wb')\n",
        "pickle.dump(final_inp, file)\n",
        "\n",
        "file = open('/content/drive/MyDrive/CAPSTONE/Aerocity/final_gt_1', 'wb')\n",
        "pickle.dump(final_gt, file)"
      ],
      "execution_count": null,
      "outputs": []
    }
  ]
}